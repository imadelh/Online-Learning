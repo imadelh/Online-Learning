{
 "cells": [
  {
   "cell_type": "markdown",
   "metadata": {},
   "source": [
    "**Lab -1 - ONLINE GRADIENT ALGORITHM**\n"
   ]
  },
  {
   "cell_type": "markdown",
   "metadata": {},
   "source": [
    "**Reminder on convex functions**\n",
    "\n",
    "We remind that a function $F:\\mathbb{R}^k\\rightarrow \\mathbb{R}$ is said to be convex iff $\\forall x,y\\in\\mathbb{R}^k,\\forall \\alpha\\in[0,1], F(\\alpha x + (1-\\alpha)y) \\leq \\alpha F(x) + (1-\\alpha) F(y)$.\n",
    "\n",
    "Given a function $F:\\mathbb{R}^k\\rightarrow \\mathbb{R}$ we define the sub-gradient of $F$ at $x$ as $\\partial F(x) = \\{y\\in\\mathbb{R}^k,\\forall z\\in \\mathbb{R}^k: F(z)-F(x) \\geq \\left<y,z-x\\right>\\}$. A few well-known facts: when $F$ is convex, $F(x) \\neq \\emptyset$ for any $x$; when $F$ is convex and differentiable at $x$, $\\partial F(x) = \\left\\{\\frac{{\\rm d} F}{{\\rm d}x}(x)\\right\\}$; when $F$ is convex and $L$-Lipschitz then $\\forall y \\in \\partial F(x)$, $\\|y\\|\\leq L$."
   ]
  },
  {
   "cell_type": "markdown",
   "metadata": {},
   "source": [
    "**Online gradient algorithm**\n",
    "\n",
    "Context: $f_1,\\dots,f_M$ and $\\mathcal{F}={\\rm span}(f_1,\\dots,f_M)$, that is L-type aggregation. Notation: $f(\\cdot)=(f_1(\\cdot),\\dots,f_M(\\cdot))$ so that $\\mathcal{F}=\\{\\left<\\alpha,f(\\cdot)\\right>,\\alpha\\in\\mathbb{R}^M\\}$. Also $\\mathcal{F}_B := \\{\\left<\\alpha,f(\\cdot)\\right>,\\|\\alpha\\|\\leq B\\}$. Finally $[(x_t,y_t)]_{t\\in\\mathbb{N}^*}$ any sequence in $(\\mathcal{X}\\times\\mathbb{R})^{\\mathbb{N}^*}$. Finally, any loss function $\\ell$ such that $\\forall t$, $\\ell(y_t,\\cdot)$ is a convex function.\n",
    "\n",
    "Initialization: $\\theta_1 = 0$, $\\eta>0$.\n",
    "\n",
    "Step $t$: put $\\hat{y}_t = \\left<\\theta_t,f(x_t)\\right>$. Once $y_t$ is revealed, define $g_t(\\theta)=\\ell(y_t,\\left<\\theta,f(x_t)\\right>)$, $z_t \\in \\partial g_t (\\theta_t)$ and $\\theta_{t+1} = \\theta_t - \\eta z_t$."
   ]
  },
  {
   "cell_type": "markdown",
   "metadata": {},
   "source": [
    "**Regret bound for the online gradient algorithm**\n",
    "\n",
    "_Theorem_: assume that $\\forall t$, $\\ell(y_t,\\cdot)$ is also $L$-Lipschitz. Then for any $T\\in\\mathbb{N}^*$\n",
    "$$\n",
    "\\sum_{t=1}^T \\ell(y_t,\\hat{y}_t) \\leq \\inf_{\\theta\\in\\mathbb{R}^M} \\left\\{ \\sum_{t=1}^T \\ell(y_t,\\left<\\theta,f(x_t)\\right>) + \\eta T L^2 + \\frac{\\|\\theta\\|^2}{2\\eta} \\right\\}.\n",
    "$$\n",
    "So, as a special case,\n",
    "$$\n",
    "\\mathcal{R}_T(\\mathcal{F}_B) \\leq \\eta T L^2 + \\frac{B^2}{2\\eta}\n",
    "$$\n",
    "and in this case, the choice $\\eta=\\frac{B}{L\\sqrt{2T}}$ leads to\n",
    "$$\n",
    "\\mathcal{R}_T(\\mathcal{F}_B) \\leq BL\\sqrt{2T}.\n",
    "$$\n",
    "\n",
    "_Proof_: in class, or in the references.\n",
    "\n",
    "_Remark_: if you want to win the game without having to know $T$ in advance, you can use the so-called doubling trick: use the gradient algorithm on the interval $2^{N} \\leq t < 2^{N+1}$ for each integer $N\\in\\mathbb{N}$. On each interval, the time horizon is known, it is $2^{N+1}-2^N=2^N$ and so set $\\eta=B/(2^{\\frac{N+1}{2}}L)$. Simple calculations show that this produces a sequence $\\hat{y}_t$ with $\\mathcal{R}_T(\\mathcal{F}_B) \\leq \\frac{2BL\\sqrt{T}}{\\sqrt{2}-1}$, so we only lose a constant factor."
   ]
  },
  {
   "cell_type": "markdown",
   "metadata": {},
   "source": [
    "**Example**\n",
    "\n",
    "In classification problems, all the $y_t$'s are in $\\{-1,+1\\}$, one would like to use the zero/one loss: $\\ell(y_t,\\left<\\theta,f(x_t)\\right>)=\\mathbf{1}({\\rm sign}(\\left<\\theta,f(x_t)\\right>) \\neq y_t)$ but it is not convex. It is classical to replace it by a convex surrogate. Here, we propose the hinge loss: $\\ell(y,y')=(1-yy')_+$. Consider then $g_t(\\theta)=\\ell(y_t,\\left<\\theta,f(x_t)\\right>)$. We obtain $\\partial g_t(\\theta_t) = \\{0\\}$ if $y_t\\left<\\theta_t,f(x_t)\\right> >1$, $g_t(\\theta_t) = \\{-y_t f(x_t)\\}$ if $y_t\\left<\\theta_t,f(x_t)\\right><1$. In the case $y_t\\left<\\theta_t,f(x_t)\\right>=1$, $g_t(\\theta_t)$ is the full segment $[0,-y_t f(x_t)]$. So, for the algorithm, we can simply update:\n",
    "$$ \\theta_{t+1} = \\theta_t + \\eta y_t f(x_t) \\text{ if } y_t\\left<\\theta_t,f(x_t)\\right><1 \\text{, }\n",
    "  \\theta_{t+1} = \\theta_t \\text{ otherwise.}$$\n",
    "  \n",
    "Let us now run this algorithm on a real dataset. First, set $\\eta>0$."
   ]
  },
  {
   "cell_type": "code",
   "execution_count": 18,
   "metadata": {
    "collapsed": false
   },
   "outputs": [],
   "source": [
    "eta = 0.01"
   ]
  },
  {
   "cell_type": "markdown",
   "metadata": {},
   "source": [
    "This dataset is taken from the machine learning repository http://archive.ics.uci.edu/ml/ It is the white wine dataset: we compare this result to the trivial strategy that always return $5$ as an output."
   ]
  },
  {
   "cell_type": "code",
   "execution_count": 6,
   "metadata": {
    "collapsed": false
   },
   "outputs": [
    {
     "data": {
      "text/html": [
       "<div>\n",
       "<style scoped>\n",
       "    .dataframe tbody tr th:only-of-type {\n",
       "        vertical-align: middle;\n",
       "    }\n",
       "\n",
       "    .dataframe tbody tr th {\n",
       "        vertical-align: top;\n",
       "    }\n",
       "\n",
       "    .dataframe thead th {\n",
       "        text-align: right;\n",
       "    }\n",
       "</style>\n",
       "<table border=\"1\" class=\"dataframe\">\n",
       "  <thead>\n",
       "    <tr style=\"text-align: right;\">\n",
       "      <th></th>\n",
       "      <th>fixed acidity</th>\n",
       "      <th>volatile acidity</th>\n",
       "      <th>citric acid</th>\n",
       "      <th>residual sugar</th>\n",
       "      <th>chlorides</th>\n",
       "      <th>free sulfur dioxide</th>\n",
       "      <th>total sulfur dioxide</th>\n",
       "      <th>density</th>\n",
       "      <th>pH</th>\n",
       "      <th>sulphates</th>\n",
       "      <th>alcohol</th>\n",
       "      <th>quality</th>\n",
       "    </tr>\n",
       "  </thead>\n",
       "  <tbody>\n",
       "    <tr>\n",
       "      <th>0</th>\n",
       "      <td>7.0</td>\n",
       "      <td>0.27</td>\n",
       "      <td>0.36</td>\n",
       "      <td>20.7</td>\n",
       "      <td>0.045</td>\n",
       "      <td>45.0</td>\n",
       "      <td>170.0</td>\n",
       "      <td>1.0010</td>\n",
       "      <td>3.00</td>\n",
       "      <td>0.45</td>\n",
       "      <td>8.8</td>\n",
       "      <td>6</td>\n",
       "    </tr>\n",
       "    <tr>\n",
       "      <th>1</th>\n",
       "      <td>6.3</td>\n",
       "      <td>0.30</td>\n",
       "      <td>0.34</td>\n",
       "      <td>1.6</td>\n",
       "      <td>0.049</td>\n",
       "      <td>14.0</td>\n",
       "      <td>132.0</td>\n",
       "      <td>0.9940</td>\n",
       "      <td>3.30</td>\n",
       "      <td>0.49</td>\n",
       "      <td>9.5</td>\n",
       "      <td>6</td>\n",
       "    </tr>\n",
       "    <tr>\n",
       "      <th>2</th>\n",
       "      <td>8.1</td>\n",
       "      <td>0.28</td>\n",
       "      <td>0.40</td>\n",
       "      <td>6.9</td>\n",
       "      <td>0.050</td>\n",
       "      <td>30.0</td>\n",
       "      <td>97.0</td>\n",
       "      <td>0.9951</td>\n",
       "      <td>3.26</td>\n",
       "      <td>0.44</td>\n",
       "      <td>10.1</td>\n",
       "      <td>6</td>\n",
       "    </tr>\n",
       "    <tr>\n",
       "      <th>3</th>\n",
       "      <td>7.2</td>\n",
       "      <td>0.23</td>\n",
       "      <td>0.32</td>\n",
       "      <td>8.5</td>\n",
       "      <td>0.058</td>\n",
       "      <td>47.0</td>\n",
       "      <td>186.0</td>\n",
       "      <td>0.9956</td>\n",
       "      <td>3.19</td>\n",
       "      <td>0.40</td>\n",
       "      <td>9.9</td>\n",
       "      <td>6</td>\n",
       "    </tr>\n",
       "    <tr>\n",
       "      <th>4</th>\n",
       "      <td>7.2</td>\n",
       "      <td>0.23</td>\n",
       "      <td>0.32</td>\n",
       "      <td>8.5</td>\n",
       "      <td>0.058</td>\n",
       "      <td>47.0</td>\n",
       "      <td>186.0</td>\n",
       "      <td>0.9956</td>\n",
       "      <td>3.19</td>\n",
       "      <td>0.40</td>\n",
       "      <td>9.9</td>\n",
       "      <td>6</td>\n",
       "    </tr>\n",
       "  </tbody>\n",
       "</table>\n",
       "</div>"
      ],
      "text/plain": [
       "   fixed acidity  volatile acidity  citric acid  residual sugar  chlorides  \\\n",
       "0            7.0              0.27         0.36            20.7      0.045   \n",
       "1            6.3              0.30         0.34             1.6      0.049   \n",
       "2            8.1              0.28         0.40             6.9      0.050   \n",
       "3            7.2              0.23         0.32             8.5      0.058   \n",
       "4            7.2              0.23         0.32             8.5      0.058   \n",
       "\n",
       "   free sulfur dioxide  total sulfur dioxide  density    pH  sulphates  \\\n",
       "0                 45.0                 170.0   1.0010  3.00       0.45   \n",
       "1                 14.0                 132.0   0.9940  3.30       0.49   \n",
       "2                 30.0                  97.0   0.9951  3.26       0.44   \n",
       "3                 47.0                 186.0   0.9956  3.19       0.40   \n",
       "4                 47.0                 186.0   0.9956  3.19       0.40   \n",
       "\n",
       "   alcohol  quality  \n",
       "0      8.8        6  \n",
       "1      9.5        6  \n",
       "2     10.1        6  \n",
       "3      9.9        6  \n",
       "4      9.9        6  "
      ]
     },
     "execution_count": 6,
     "metadata": {},
     "output_type": "execute_result"
    }
   ],
   "source": [
    "from pylab import *\n",
    "from numpy import *\n",
    "from pandas import read_csv\n",
    "import matplotlib.pyplot as plt\n",
    "%matplotlib inline\n",
    "\n",
    "# Read Data\n",
    "\n",
    "wine = read_csv('winequality-white.csv',sep=\";\")\n",
    "wine.head()"
   ]
  },
  {
   "cell_type": "code",
   "execution_count": 7,
   "metadata": {},
   "outputs": [],
   "source": [
    "# Convert Data\n",
    "\n",
    "wine = wine.values\n",
    "n,k = shape(wine)\n",
    "x = wine[:,1:(k-2)]\n",
    "x = x/mean(x,0)\n",
    "constant = ones((n,1))\n",
    "x = concatenate((x,constant),axis=1)\n",
    "y = wine[:,k-1]\n"
   ]
  },
  {
   "cell_type": "markdown",
   "metadata": {},
   "source": [
    "### Implementation of Online Gradient"
   ]
  },
  {
   "cell_type": "code",
   "execution_count": 25,
   "metadata": {},
   "outputs": [],
   "source": [
    "# Algorithme gradient\n",
    "\n",
    "def OnlineGradient(eta,x,y):\n",
    "    Theta = np.zeros(x.shape[1])\n",
    "    Theta_ = []\n",
    "    Error = [0]\n",
    "    T = x.shape[0] \n",
    "    for t in range(T):\n",
    "        y_t = y[t]\n",
    "        # Gradient \n",
    "        g = y_t - np.dot(Theta,x[t,:])\n",
    "        if (g> 0):\n",
    "            z_t = -x[t,:]\n",
    "        if (g < 0):\n",
    "            z_t = x[t,:]\n",
    "        if (g == 0): \n",
    "            l = np.random.rand(0,1)\n",
    "            z_t = -l*x[t,:]+(1-l)*x[t,:]\n",
    "                         \n",
    "        Theta = Theta - eta*z_t\n",
    "        Theta_ = np.append(Theta_,Theta)\n",
    "        loc=Error[t]\n",
    "        Error = np.append(Error,loc+np.abs((y_t - np.dot(Theta,x[t,:]))))\n",
    "\n",
    "    return Theta_,Error\n",
    "     "
   ]
  },
  {
   "cell_type": "code",
   "execution_count": 27,
   "metadata": {},
   "outputs": [
    {
     "data": {
      "image/png": "[encoded data removed]",
      "text/plain": [
       "<matplotlib.figure.Figure at 0x113336da0>"
      ]
     },
     "metadata": {},
     "output_type": "display_data"
    }
   ],
   "source": [
    "\n",
    "eta = 0.01\n",
    "\n",
    "naive = cumsum(abs(y-5))\n",
    "_,online_grad = OnlineGradient(eta,x,y)\n",
    "                         \n",
    "fig = plt.figure(figsize=(15,7))\n",
    "ax = fig.add_subplot(111)\n",
    "#plt.xscale('log')\n",
    "#plt.yscale('log')\n",
    "plt.ylim(0,n)\n",
    "l1, = plt.plot(online_grad)\n",
    "l2, = plt.plot(naive)\n",
    "plt.legend([l1,l2],['online gradient','naive (5)'])\n",
    "plt.grid(True,which=\"both\")\n",
    "plt.xlabel(r\"Time step $t$\")\n",
    "plt.ylabel(r\"Number of errors $L_t$\")\n",
    "plt.show()\n"
   ]
  },
  {
   "cell_type": "markdown",
   "metadata": {},
   "source": [
    "Let's take $\\eta_t$ depends on time $t$"
   ]
  },
  {
   "cell_type": "code",
   "execution_count": 28,
   "metadata": {
    "collapsed": false
   },
   "outputs": [
    {
     "data": {
      "image/png": "[encoded data removed]",
      "text/plain": [
       "<matplotlib.figure.Figure at 0x11342b780>"
      ]
     },
     "metadata": {},
     "output_type": "display_data"
    }
   ],
   "source": [
    "eta = 1/sqrt(arange(n)+1)\n",
    "\n",
    "# Algorithme gradient - eta depends on t\n",
    "\n",
    "def OnlineGradient_t(eta,x,y):\n",
    "    Theta = np.zeros(x.shape[1])\n",
    "    Theta_ = []\n",
    "    Error = [0]\n",
    "    T = x.shape[0] \n",
    "    for t in range(T):\n",
    "        y_t = y[t]\n",
    "        # Gradient \n",
    "        g = y_t - np.dot(Theta,x[t,:])\n",
    "        if (g> 0):\n",
    "            z_t = -x[t,:]\n",
    "        if (g < 0):\n",
    "            z_t = x[t,:]\n",
    "        if (g == 0): \n",
    "            l = np.random.rand(0,1)\n",
    "            z_t = -l*x[t,:]+(1-l)*x[t,:]\n",
    "                         \n",
    "        Theta = Theta - eta[t]*z_t\n",
    "        Theta_ = np.append(Theta_,Theta)\n",
    "        loc=Error[t]\n",
    "        Error = np.append(Error,loc+np.abs((y_t - np.dot(Theta,x[t,:]))))\n",
    "\n",
    "    return Theta_,Error\n",
    "     \n",
    "\n",
    "naive = cumsum(abs(y-5))\n",
    "_,online_grad = OnlineGradient_t(eta,x,y)\n",
    "\n",
    "fig = plt.figure(figsize=(15,7))\n",
    "ax = fig.add_subplot(111)\n",
    "#plt.xscale('log')\n",
    "#plt.yscale('log')\n",
    "plt.ylim(0,n)\n",
    "l1, = plt.plot(online_grad)\n",
    "l2, = plt.plot(naive)\n",
    "plt.legend([l1,l2],['online gradient','naive (5)'])\n",
    "plt.grid(True,which=\"both\")\n",
    "plt.xlabel(r\"Time step $t$\")\n",
    "plt.ylabel(r\"Number of errors $L_t$\")\n",
    "plt.show()\n"
   ]
  },
  {
   "cell_type": "markdown",
   "metadata": {},
   "source": [
    "**Remark: online to batch bound**\n",
    "\n",
    "Assume that we have a sample $[(X_i,Y_i)]_{1\\leq i\\leq n}$ i.i.d from a probability distribution $P$. Even if we are in the batch setting, we can still run the online gradient algorithm. It will produce a sequence of predictions $\\hat{Y}_1,\\dots,\\hat{Y}_n$ but these are of course useless. However it will also produce a sequence of parameters $\\theta_1,\\dots,\\theta_n$. Let us put $\\hat{f}(\\cdot)= \\left< \\frac{1}{n}\\sum_{i=1}^n \\theta_i, f(\\cdot)\\right> $. Then we have:\n",
    "\n",
    "_Theorem_: if $\\forall y$, $\\ell(y,\\cdot)$ is $L$-Lipschitz, set $\\eta=\\frac{B}{L\\sqrt{2n}}$ and then\n",
    "$$ \\mathbb{E}\\left( R(\\hat{f}) \\right) \\leq \\inf_{f\\in\\mathcal{F}_B} R(f) + \\frac{BL\\sqrt{2}}{\\sqrt{n}} .$$\n"
   ]
  },
  {
   "cell_type": "markdown",
   "metadata": {},
   "source": [
    "**References**\n",
    "\n",
    "This chapter is essentially based on Section 2 in\n",
    "\n",
    "S. Shalev-Shwartz, Online Learning and Online Convex Optimization, _Foundations and Trends in Machine Learning_, 4(2), pp. 107-194 (2011)."
   ]
  }
 ],
 "metadata": {
  "kernelspec": {
   "display_name": "Python (3.6)",
   "language": "python",
   "name": "ml"
  },
  "language_info": {
   "codemirror_mode": {
    "name": "ipython",
    "version": 3
   },
   "file_extension": ".py",
   "mimetype": "text/x-python",
   "name": "python",
   "nbconvert_exporter": "python",
   "pygments_lexer": "ipython3",
   "version": "3.6.4"
  }
 },
 "nbformat": 4,
 "nbformat_minor": 2
}
